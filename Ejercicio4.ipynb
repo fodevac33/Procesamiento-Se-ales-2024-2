{
 "cells": [
  {
   "cell_type": "code",
   "execution_count": 1,
   "metadata": {},
   "outputs": [
    {
     "data": {
      "application/vnd.jupyter.widget-view+json": {
       "model_id": "ca8af0c30c8b4a65bfbfdbee1751a2db",
       "version_major": 2,
       "version_minor": 0
      },
      "text/plain": [
       "interactive(children=(IntSlider(value=50, description='f'), FloatSlider(value=0.2, description='keep_start', m…"
      ]
     },
     "metadata": {},
     "output_type": "display_data"
    }
   ],
   "source": [
    "import numpy as np\n",
    "from ipywidgets import interact\n",
    "import matplotlib.pyplot as plt\n",
    "\n",
    "@interact(f=(0, 100, 1), keep_start=(0.0, 1.0, 0.01), keep_end=(0.0, 1.0, 0.01))\n",
    "def convolve_ex(f, keep_start=0.2, keep_end=0.6):\n",
    "    t = np.linspace(0, 1, 1000, endpoint=False)\n",
    "\n",
    "    x = np.sin(2 * np.pi * 3 * t) * np.sin(2 * np.pi * 7 * t)\n",
    "    h = np.sin(2 * np.pi * f * t)\n",
    "    h[(t < keep_start) | (t > keep_end)] = 0\n",
    "\n",
    "\n",
    "    y = np.convolve(x, h, mode='same')\n",
    "    t_conv = np.linspace(0, 1, len(y), endpoint=False)\n",
    "\n",
    "\n",
    "\n",
    "    plt.figure(figsize=(12, 8))\n",
    "\n",
    "    plt.subplot(221)\n",
    "    plt.plot(t, x)\n",
    "    plt.title(\"Original Signal\")\n",
    "\n",
    "    plt.subplot(222)\n",
    "    plt.plot(t, h)\n",
    "    plt.title(\"Function to Convolve\")\n",
    "\n",
    "    plt.subplot(212)\n",
    "    plt.plot(t_conv, y)\n",
    "    plt.title(\"Convolution Result\")\n",
    "\n",
    "    plt.tight_layout()\n",
    "    plt.show()"
   ]
  }
 ],
 "metadata": {
  "kernelspec": {
   "display_name": ".venv",
   "language": "python",
   "name": "python3"
  },
  "language_info": {
   "codemirror_mode": {
    "name": "ipython",
    "version": 3
   },
   "file_extension": ".py",
   "mimetype": "text/x-python",
   "name": "python",
   "nbconvert_exporter": "python",
   "pygments_lexer": "ipython3",
   "version": "3.10.12"
  }
 },
 "nbformat": 4,
 "nbformat_minor": 2
}
